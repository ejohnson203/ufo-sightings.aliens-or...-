{
 "cells": [
  {
   "cell_type": "code",
   "execution_count": 3,
   "id": "23113d03",
   "metadata": {},
   "outputs": [],
   "source": [
    "import pandas as pd\n",
    "import numpy as np\n",
    "import matplotlib.pyplot as plt\n",
    "import seaborn as sns"
   ]
  },
  {
   "cell_type": "code",
   "execution_count": 21,
   "id": "19b1d4f7",
   "metadata": {},
   "outputs": [
    {
     "data": {
      "text/html": [
       "<div>\n",
       "<style scoped>\n",
       "    .dataframe tbody tr th:only-of-type {\n",
       "        vertical-align: middle;\n",
       "    }\n",
       "\n",
       "    .dataframe tbody tr th {\n",
       "        vertical-align: top;\n",
       "    }\n",
       "\n",
       "    .dataframe thead th {\n",
       "        text-align: right;\n",
       "    }\n",
       "</style>\n",
       "<table border=\"1\" class=\"dataframe\">\n",
       "  <thead>\n",
       "    <tr style=\"text-align: right;\">\n",
       "      <th></th>\n",
       "      <th>date</th>\n",
       "      <th>moon phase</th>\n",
       "    </tr>\n",
       "  </thead>\n",
       "  <tbody>\n",
       "    <tr>\n",
       "      <th>0</th>\n",
       "      <td>1906-01-02</td>\n",
       "      <td>first quarter moon</td>\n",
       "    </tr>\n",
       "    <tr>\n",
       "      <th>1</th>\n",
       "      <td>1906-01-10</td>\n",
       "      <td>full moon</td>\n",
       "    </tr>\n",
       "    <tr>\n",
       "      <th>2</th>\n",
       "      <td>1906-01-17</td>\n",
       "      <td>third quarter moon</td>\n",
       "    </tr>\n",
       "    <tr>\n",
       "      <th>3</th>\n",
       "      <td>1906-01-24</td>\n",
       "      <td>new moon</td>\n",
       "    </tr>\n",
       "    <tr>\n",
       "      <th>4</th>\n",
       "      <td>1906-02-01</td>\n",
       "      <td>first quarter moon</td>\n",
       "    </tr>\n",
       "  </tbody>\n",
       "</table>\n",
       "</div>"
      ],
      "text/plain": [
       "        date          moon phase\n",
       "0 1906-01-02  first quarter moon\n",
       "1 1906-01-10           full moon\n",
       "2 1906-01-17  third quarter moon\n",
       "3 1906-01-24            new moon\n",
       "4 1906-02-01  first quarter moon"
      ]
     },
     "execution_count": 21,
     "metadata": {},
     "output_type": "execute_result"
    }
   ],
   "source": [
    "ufo = pd.read_csv('ufo_sightings_clean.csv')\n",
    "moon = pd.read_excel('lunar_cycle.xlsx')\n",
    "moon = moon[(moon['date'] >= '1906-01-01') & (moon['date'] <= '2014-12-31')]\n",
    "moon.reset_index(drop=True,inplace=True)\n",
    "moon.head()"
   ]
  },
  {
   "cell_type": "code",
   "execution_count": 22,
   "id": "e234a47c",
   "metadata": {},
   "outputs": [],
   "source": [
    "import datetime\n",
    "\n",
    "def count_ufo_moon(x):\n",
    "    \n",
    "    try:\n",
    "        sightings = ufo[(ufo['year']==x.year) & (ufo['month']==x.month) & (ufo['day']==x.day)]\n",
    "        return len(sightings)\n",
    "    except Exception as e: \n",
    "        print(e)\n",
    "   \n",
    "    return 0\n",
    "    \n",
    "moon['sightings'] = [count_ufo_moon(x) for x in moon['date']]"
   ]
  },
  {
   "cell_type": "code",
   "execution_count": 23,
   "id": "29c44abf",
   "metadata": {},
   "outputs": [
    {
     "name": "stdout",
     "output_type": "stream",
     "text": [
      "moon phase\n",
      "first quarter moon    2741\n",
      "full moon             2747\n",
      "new moon              2932\n",
      "third quarter moon    2777\n",
      "Name: sightings, dtype: int64\n",
      "The total amount of sightings matching moon data is 11197\n"
     ]
    }
   ],
   "source": [
    "count = moon.groupby(['moon phase'])['sightings'].sum()\n",
    "print(count)\n",
    "print('The total amount of sightings matching moon data is ' + str(count.sum()))"
   ]
  },
  {
   "cell_type": "code",
   "execution_count": 24,
   "id": "6ea5dc1f",
   "metadata": {},
   "outputs": [
    {
     "data": {
      "text/plain": [
       "13.680872653475392"
      ]
     },
     "execution_count": 24,
     "metadata": {},
     "output_type": "execute_result"
    }
   ],
   "source": [
    "#percentage we would be expecting \n",
    "len(moon)/(365*(2014-1906))*100"
   ]
  },
  {
   "cell_type": "code",
   "execution_count": 25,
   "id": "1bfb3df2",
   "metadata": {},
   "outputs": [
    {
     "data": {
      "text/plain": [
       "14.007280733577693"
      ]
     },
     "execution_count": 25,
     "metadata": {},
     "output_type": "execute_result"
    }
   ],
   "source": [
    "#percentage that actually took place during main moon phases\n",
    "count.sum()/len(ufo)*100"
   ]
  },
  {
   "cell_type": "code",
   "execution_count": 26,
   "id": "49446013",
   "metadata": {},
   "outputs": [
    {
     "data": {
      "text/plain": [
       "2799.25"
      ]
     },
     "execution_count": 26,
     "metadata": {},
     "output_type": "execute_result"
    }
   ],
   "source": [
    "expected = count.sum() / 4\n",
    "expected"
   ]
  },
  {
   "cell_type": "code",
   "execution_count": 30,
   "id": "f1f53778",
   "metadata": {},
   "outputs": [
    {
     "data": {
      "text/plain": [
       "Power_divergenceResult(statistic=8.659730284897739, pvalue=0.03417434930484819)"
      ]
     },
     "execution_count": 30,
     "metadata": {},
     "output_type": "execute_result"
    }
   ],
   "source": [
    "# Chi square test\n",
    "from scipy.stats import chi2\n",
    "stats.chisquare(count,expected)"
   ]
  },
  {
   "cell_type": "markdown",
   "id": "21953665",
   "metadata": {},
   "source": [
    "at significance level 0.025 this data is significantly different from what was expected.\n",
    "\n",
    "when counting all the ufo sightings that have taken place during primary moon phases, we can see that sightings are disproportionately more likely to occur during the new moon"
   ]
  }
 ],
 "metadata": {
  "kernelspec": {
   "display_name": "Python 3 (ipykernel)",
   "language": "python",
   "name": "python3"
  },
  "language_info": {
   "codemirror_mode": {
    "name": "ipython",
    "version": 3
   },
   "file_extension": ".py",
   "mimetype": "text/x-python",
   "name": "python",
   "nbconvert_exporter": "python",
   "pygments_lexer": "ipython3",
   "version": "3.10.9"
  }
 },
 "nbformat": 4,
 "nbformat_minor": 5
}
